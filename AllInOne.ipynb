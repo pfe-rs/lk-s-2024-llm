{
 "cells": [
  {
   "cell_type": "code",
   "execution_count": null,
   "id": "0fbd896e",
   "metadata": {},
   "outputs": [],
   "source": [
    "# Compelte interaction\n",
    "\n",
    "import llm_class\n",
    "import model_inference\n",
    "\n",
    "from constants import PHI_MODEL_NAME, EMBEDDING_MODEL_NAME\n",
    "from datetime import datetime\n",
    "from embedding import Embedder\n",
    "from model_eval import ModelEval\n",
    "from scraper import Scraper\n",
    "from searching import PageSearch\n",
    "from webpage import Webpage\n",
    "\n",
    "import gradio as gr\n",
    "\n",
    "model = llm_class.LanguageModel()\n",
    "inference = model_inference.ModelInferencing(model)\n",
    "\n",
    "webpage_url=\"https://pfe.rs/en\"\n",
    "\n",
    "pages = Scraper.scrape_from_link(webpage_url)\n",
    "\n",
    "for i in range(len(pages)):\n",
    "    text = pages[i].get_text()\n",
    "    phrases = inference.get_multiple_phrases(text)\n",
    "    emb_phrases = Embedder.get_embedding(phrases)\n",
    "    pages[i].set_embedding(emb_phrases)\n",
    "\n",
    "page_collection = PageSearch(pages)\n",
    "\n",
    "\n",
    "query = \"How to apply for pfe?\"\n",
    "pages = page_collection.search_pages(query, inference)\n",
    "for page in pages:\n",
    "    print(page)"
   ]
  },
  {
   "cell_type": "code",
   "execution_count": null,
   "id": "933b1d77-c135-48c2-b208-20b2923af38b",
   "metadata": {
    "execution": {
     "iopub.execute_input": "2024-07-18T19:35:03.044365Z",
     "iopub.status.busy": "2024-07-18T19:35:03.043788Z",
     "iopub.status.idle": "2024-07-18T19:35:43.367000Z",
     "shell.execute_reply": "2024-07-18T19:35:43.366102Z",
     "shell.execute_reply.started": "2024-07-18T19:35:03.044331Z"
    }
   },
   "outputs": [],
   "source": [
    "import keyphrase_dataset\n",
    "import llm_class\n",
    "import model_inference\n",
    "import output_parser\n",
    "import phrase_extraction_evaluation\n",
    "\n",
    "from datetime import datetime\n",
    "from constants import PHI_MODEL_NAME, EMBEDDING_MODEL_NAME\n",
    "from model_eval import ModelEval\n",
    "\n",
    "import gradio as gr\n",
    "\n",
    "model = llm_class.LanguageModel()\n",
    "keyphrase_set = keyphrase_dataset.KeyphraseDataset()\n",
    "inference = model_inference.ModelInferencing(model)\n"
   ]
  },
  {
   "cell_type": "code",
   "execution_count": null,
   "id": "4751c640-c08b-4ea9-baa3-48c7c08503a7",
   "metadata": {
    "execution": {
     "iopub.execute_input": "2024-07-18T15:40:29.747622Z",
     "iopub.status.busy": "2024-07-18T15:40:29.747353Z",
     "iopub.status.idle": "2024-07-18T15:40:31.225032Z",
     "shell.execute_reply": "2024-07-18T15:40:31.224473Z",
     "shell.execute_reply.started": "2024-07-18T15:40:29.747602Z"
    }
   },
   "outputs": [],
   "source": [
    "def gradio_func(text_prompt: str, samples: int, experiment_name: str) -> str:\n",
    "    \"\"\"\n",
    "    Gradio function to run multiple samples and evaluate them.\n",
    "    Args:\n",
    "        text_prompt (str): The text prompt for generating key phrases.\n",
    "        samples (int): The number of samples to test.\n",
    "        experiment_name (str): The name of the experiment.\n",
    "    Returns:\n",
    "        str: The average metrics from the evaluation.\n",
    "    \"\"\"\n",
    "    prompts.multiple_keyphrases_prompt = text_prompt\n",
    "    tests = keyphrase_set.get_samples(samples)\n",
    "    results = ModelEval.multiple_samples(inference, tests, save_file=experiment_name, print_counts=True)\n",
    "\n",
    "    return (\n",
    "        f\"Avg cosine: {results['cosine']} | \"\n",
    "        f\"Avg labels matched: {results['matchings']} | \"\n",
    "        f\"Avg redundancy: {results['redundancy']} | \"\n",
    "        f\"Avg groundness: {results['groundness']}\"\n",
    "    )\n",
    "\n",
    "\n",
    "# Create the Gradio interface for prompt testing\n",
    "interface = gr.Interface(\n",
    "    fn=gradio_func,\n",
    "    inputs=[\n",
    "        gr.Textbox(lines=2, placeholder=\"Enter your text prompt here...\", label=\"Text Prompt\"),\n",
    "        gr.Slider(minimum=1, maximum=500, step=1, label=\"Number of tests\"),\n",
    "        gr.Textbox(lines=2, placeholder=\"Enter your experiment name here...\", label=\"Experiment name\"),\n",
    "    ],\n",
    "    outputs=\"text\",\n",
    "    title=\"Prompt Testing Interface\",\n",
    ")\n",
    "\n",
    "# Launch the interface\n",
    "interface.launch(share=True)"
   ]
  },
  {
   "cell_type": "code",
   "execution_count": null,
   "id": "ae97a6de-6100-497a-87f3-a81e7a806775",
   "metadata": {
    "execution": {
     "iopub.execute_input": "2024-07-17T18:06:32.305198Z",
     "iopub.status.busy": "2024-07-17T18:06:32.303979Z",
     "iopub.status.idle": "2024-07-17T18:06:35.632980Z",
     "shell.execute_reply": "2024-07-17T18:06:35.632506Z",
     "shell.execute_reply.started": "2024-07-17T18:06:32.305149Z"
    }
   },
   "outputs": [],
   "source": [
    "# Debug\n",
    "\n",
    "sample=keyphrase_set.train_set[1]\n",
    "\n",
    "#print(model.prompt_text)\n",
    "\n",
    "print(sample['text'])\n",
    "print(\"\\n\")\n",
    "print(sample['label'])\n",
    "print(\"\\n\")\n",
    "print(get_metrics(sample['text'],sample['label']))"
   ]
  },
  {
   "cell_type": "code",
   "execution_count": 11,
   "id": "76463564-cde9-4896-a481-06e71c66cf7e",
   "metadata": {
    "execution": {
     "iopub.execute_input": "2024-07-17T17:32:26.350827Z",
     "iopub.status.busy": "2024-07-17T17:32:26.350410Z",
     "iopub.status.idle": "2024-07-17T17:32:26.353826Z",
     "shell.execute_reply": "2024-07-17T17:32:26.353407Z",
     "shell.execute_reply.started": "2024-07-17T17:32:26.350805Z"
    }
   },
   "outputs": [],
   "source": [
    "# Debug\n",
    "\n",
    "model.set_prompt(\"\"\"You are provided with the text extracted from a webpage, delimited by < for start and > for end. Your task is to extract the key phrases from the text that best characterize the webpage. You should extract at most 10 such phrases, but may extract less. Ensure the key phrases are relevant and provide a good summary of the content. Present the key phrases in JSON format, with each key phrase being an item in a list. Do not output anything but json of extracted keyphrases.\n",
    "\n",
    "Example webpage to extract from: <&>\n",
    "\n",
    "Your response should look like this:&\n",
    "\n",
    "The text from the webpage: <&>\"\"\")"
   ]
  },
  {
   "cell_type": "code",
   "execution_count": null,
   "id": "9cdb577c-f220-49f4-a115-c813c529a1b3",
   "metadata": {
    "execution": {
     "iopub.execute_input": "2024-07-18T19:35:47.620132Z",
     "iopub.status.busy": "2024-07-18T19:35:47.619436Z",
     "iopub.status.idle": "2024-07-18T19:35:49.810997Z",
     "shell.execute_reply": "2024-07-18T19:35:49.810295Z",
     "shell.execute_reply.started": "2024-07-18T19:35:47.620110Z"
    }
   },
   "outputs": [],
   "source": [
    "def visualize(text: str) -> str:\n",
    "    \"\"\"\n",
    "    Gradio function to extract and visualize key phrases from the given text.\n",
    "    Args:\n",
    "        text (str): The input text to extract key phrases from.\n",
    "    Returns:\n",
    "        str: The extracted key phrases formatted for display.\n",
    "    \"\"\"\n",
    "    formatted_phrases = inference.get_multiple_phrases(text)\n",
    "    output_text = \"Key phrases in the text are:\\n- \" + \"\\n- \".join(formatted_phrases)\n",
    "    \n",
    "    return output_text\n",
    "\n",
    "\n",
    "# Create the Gradio interface for key phrase extraction\n",
    "interface = gr.Interface(\n",
    "    fn=visualize,\n",
    "    inputs=[\n",
    "        gr.Textbox(lines=2, placeholder=\"Enter your text prompt here...\", label=\"Text to extract the keywords from\"),\n",
    "    ],\n",
    "    outputs=\"text\",\n",
    "    title=\"Key Phrase Extractor\",\n",
    ")\n",
    "\n",
    "# Launch the interface\n",
    "interface.launch(share=True)"
   ]
  },
  {
   "cell_type": "code",
   "execution_count": null,
   "id": "e143d0e6-3639-40b0-8b02-4227ba8d77d1",
   "metadata": {
    "execution": {
     "iopub.execute_input": "2024-07-18T17:32:13.190179Z",
     "iopub.status.busy": "2024-07-18T17:32:13.189581Z",
     "iopub.status.idle": "2024-07-18T17:32:15.149333Z",
     "shell.execute_reply": "2024-07-18T17:32:15.148578Z",
     "shell.execute_reply.started": "2024-07-18T17:32:13.190155Z"
    }
   },
   "outputs": [],
   "source": [
    "import gradio as gr\n",
    "\n",
    "def visualize2(text: str) -> str:\n",
    "    \"\"\"\n",
    "    Gradio function to extract and visualize key phrases from the given text.\n",
    "    Args:\n",
    "        text (str): The input text to extract key phrases from.\n",
    "    Returns:\n",
    "        str: The extracted key phrases formatted for display.\n",
    "    \"\"\"\n",
    "    formatted_phrases = inference.get_search_phrases(text)\n",
    "    output_text = \"Search phrases in the text are:\\n- \" + \"\\n- \".join(formatted_phrases)\n",
    "    \n",
    "    return output_text\n",
    "\n",
    "\n",
    "# Create the Gradio interface for key phrase extraction\n",
    "interface = gr.Interface(\n",
    "    fn=visualize2,\n",
    "    inputs=[\n",
    "        gr.Textbox(lines=2, placeholder=\"Enter your text prompt here...\", label=\"Text to extract the keywords from\"),\n",
    "    ],\n",
    "    outputs=\"text\",\n",
    "    title=\"Key Phrase Extractor\",\n",
    ")\n",
    "\n",
    "# Launch the interface\n",
    "interface.launch(share=True)"
   ]
  },
  {
   "cell_type": "code",
   "execution_count": null,
   "id": "436e239b-26bf-44e2-b603-8e87124b8f73",
   "metadata": {},
   "outputs": [],
   "source": []
  }
 ],
 "metadata": {
  "kernelspec": {
   "display_name": "Python 3 (ipykernel)",
   "language": "python",
   "name": "python3"
  },
  "language_info": {
   "codemirror_mode": {
    "name": "ipython",
    "version": 3
   },
   "file_extension": ".py",
   "mimetype": "text/x-python",
   "name": "python",
   "nbconvert_exporter": "python",
   "pygments_lexer": "ipython3",
   "version": "3.11.7"
  }
 },
 "nbformat": 4,
 "nbformat_minor": 5
}
