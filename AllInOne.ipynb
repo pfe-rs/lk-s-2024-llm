{
 "cells": [
  {
   "cell_type": "code",
   "execution_count": 3,
   "id": "933b1d77-c135-48c2-b208-20b2923af38b",
   "metadata": {
    "execution": {
     "iopub.execute_input": "2024-07-18T15:40:13.992412Z",
     "iopub.status.busy": "2024-07-18T15:40:13.991845Z",
     "iopub.status.idle": "2024-07-18T15:40:16.643936Z",
     "shell.execute_reply": "2024-07-18T15:40:16.643350Z",
     "shell.execute_reply.started": "2024-07-18T15:40:13.992386Z"
    }
   },
   "outputs": [
    {
     "name": "stderr",
     "output_type": "stream",
     "text": [
      "`flash-attention` package not found, consider installing for better performance: No module named 'flash_attn'.\n",
      "Current `flash-attention` does not support `window_size`. Either upgrade or use `attn_implementation='eager'`.\n"
     ]
    },
    {
     "data": {
      "application/vnd.jupyter.widget-view+json": {
       "model_id": "f108675a78ef471a8ed21d6709f699d5",
       "version_major": 2,
       "version_minor": 0
      },
      "text/plain": [
       "Loading checkpoint shards:   0%|          | 0/2 [00:00<?, ?it/s]"
      ]
     },
     "metadata": {},
     "output_type": "display_data"
    },
    {
     "name": "stderr",
     "output_type": "stream",
     "text": [
      "Special tokens have been added in the vocabulary, make sure the associated word embeddings are fine-tuned or trained.\n"
     ]
    }
   ],
   "source": [
    "import keyphrase_dataset\n",
    "import llm_class\n",
    "import model_inference\n",
    "import output_parser\n",
    "import phrase_extraction_evaluation\n",
    "\n",
    "from datetime import datetime\n",
    "from constants import PHI_MODEL_NAME, EMBEDDING_MODEL_NAME\n",
    "from model_eval import ModelEval\n",
    "\n",
    "\n",
    "model = llm_class.LanguageModel()\n",
    "keyphrase_set = keyphrase_dataset.KeyphraseDataset()\n",
    "inference = model_inference.ModelInferencing(model)\n"
   ]
  },
  {
   "cell_type": "code",
   "execution_count": 4,
   "id": "4751c640-c08b-4ea9-baa3-48c7c08503a7",
   "metadata": {
    "execution": {
     "iopub.execute_input": "2024-07-18T15:40:29.747622Z",
     "iopub.status.busy": "2024-07-18T15:40:29.747353Z",
     "iopub.status.idle": "2024-07-18T15:40:31.225032Z",
     "shell.execute_reply": "2024-07-18T15:40:31.224473Z",
     "shell.execute_reply.started": "2024-07-18T15:40:29.747602Z"
    }
   },
   "outputs": [
    {
     "name": "stdout",
     "output_type": "stream",
     "text": [
      "Running on local URL:  http://127.0.0.1:7861\n",
      "Running on public URL: https://5885a571e59563f0b4.gradio.live\n",
      "\n",
      "This share link expires in 72 hours. For free permanent hosting and GPU upgrades, run `gradio deploy` from Terminal to deploy to Spaces (https://huggingface.co/spaces)\n"
     ]
    },
    {
     "data": {
      "text/html": [
       "<div><iframe src=\"https://5885a571e59563f0b4.gradio.live\" width=\"100%\" height=\"500\" allow=\"autoplay; camera; microphone; clipboard-read; clipboard-write;\" frameborder=\"0\" allowfullscreen></iframe></div>"
      ],
      "text/plain": [
       "<IPython.core.display.HTML object>"
      ]
     },
     "metadata": {},
     "output_type": "display_data"
    },
    {
     "data": {
      "text/plain": []
     },
     "execution_count": 4,
     "metadata": {},
     "output_type": "execute_result"
    },
    {
     "name": "stdout",
     "output_type": "stream",
     "text": [
      "Running test 1\n",
      "Running test 2\n",
      "Running test 3\n"
     ]
    }
   ],
   "source": [
    "def gradio_func(text_prompt: str, samples: int, experiment_name: str) -> str:\n",
    "    \"\"\"\n",
    "    Gradio function to run multiple samples and evaluate them.\n",
    "    Args:\n",
    "        text_prompt (str): The text prompt for generating key phrases.\n",
    "        samples (int): The number of samples to test.\n",
    "        experiment_name (str): The name of the experiment.\n",
    "    Returns:\n",
    "        str: The average metrics from the evaluation.\n",
    "    \"\"\"\n",
    "    prompts.multiple_keyphrases_prompt = text_prompt\n",
    "    tests = keyphrase_set.get_samples(samples)\n",
    "    results = ModelEval.multiple_samples(inference, tests, save_file=experiment_name, print_counts=True)\n",
    "\n",
    "    return (\n",
    "        f\"Avg cosine: {results['cosine']} | \"\n",
    "        f\"Avg labels matched: {results['matchings']} | \"\n",
    "        f\"Avg redundancy: {results['redundancy']} | \"\n",
    "        f\"Avg groundness: {results['groundness']}\"\n",
    "    )\n",
    "\n",
    "\n",
    "# Create the Gradio interface for prompt testing\n",
    "interface = gr.Interface(\n",
    "    fn=gradio_func,\n",
    "    inputs=[\n",
    "        gr.Textbox(lines=2, placeholder=\"Enter your text prompt here...\", label=\"Text Prompt\"),\n",
    "        gr.Slider(minimum=1, maximum=500, step=1, label=\"Number of tests\"),\n",
    "        gr.Textbox(lines=2, placeholder=\"Enter your experiment name here...\", label=\"Experiment name\"),\n",
    "    ],\n",
    "    outputs=\"text\",\n",
    "    title=\"Prompt Testing Interface\",\n",
    ")\n",
    "\n",
    "# Launch the interface\n",
    "interface.launch(share=True)"
   ]
  },
  {
   "cell_type": "code",
   "execution_count": 8,
   "id": "ae97a6de-6100-497a-87f3-a81e7a806775",
   "metadata": {
    "execution": {
     "iopub.execute_input": "2024-07-17T18:06:32.305198Z",
     "iopub.status.busy": "2024-07-17T18:06:32.303979Z",
     "iopub.status.idle": "2024-07-17T18:06:35.632980Z",
     "shell.execute_reply": "2024-07-17T18:06:35.632506Z",
     "shell.execute_reply.started": "2024-07-17T18:06:32.305149Z"
    }
   },
   "outputs": [
    {
     "name": "stdout",
     "output_type": "stream",
     "text": [
      "E.M.T. Convicted of Sexual Attacks on 5 in Brooklyn An emergency medical technician with the Fire Department was convicted on Wednesday of a series of sexual assaults in Brooklyn, including an attack on an 11-year-old girl inside an elevator. The technician, Angus Pascall, 36, was convicted of first-degree rape, among other charges, for five separate attacks on young women and girls ages 11 to 22 stretching to 2001. Most of the assaults occurred in 2009 and 2010, the year he was arrested, the Kings County district attorney, Charles J. Hynes, said in a statement. Mr. Pascall’s lawyer, Edward Friedman, said his client would appeal the verdict. In each of the attacks, Mr. Pascall was armed, sometimes with a gun or a knife. In one attack on a 19-year-old woman in 2009, he used a machete, the district attorney said. In the assault on the 11-year-old, he used his emergency responder’s key to trap the victim inside an elevator. “Pascall then put a gun to her face and repeatedly sexually assaulted her,” according to the statement. He is scheduled to be sentenced on Feb. 13, and he faces up to life in prison. Mr. Pascall had worked for the Fire Department for five years when he was arrested in 2010.\n",
      "\n",
      "\n",
      "['rape', 'angus pascall', 'brooklyn', 'emergency medicine', 'charles hynes', 'decisions and verdicts', 'nyc', 'child abuse']\n",
      "\n",
      "\n",
      "['E.M.T. Convicted', 'Sexual Attacks', 'Brooklyn', 'First-Degree Rape', 'Young Women', '2009', '2010', 'Armed', 'Machete', 'Elevator']\n",
      "{'cosine': 0.5127790588885546, 'matchings': 0.25, 'redundancy': 0.022222222222222223, 'groundness': 1.0}\n"
     ]
    }
   ],
   "source": [
    "# Debug\n",
    "\n",
    "sample=keyphrase_set.train_set[1]\n",
    "\n",
    "#print(model.prompt_text)\n",
    "\n",
    "print(sample['text'])\n",
    "print(\"\\n\")\n",
    "print(sample['label'])\n",
    "print(\"\\n\")\n",
    "print(get_metrics(sample['text'],sample['label']))"
   ]
  },
  {
   "cell_type": "code",
   "execution_count": 11,
   "id": "76463564-cde9-4896-a481-06e71c66cf7e",
   "metadata": {
    "execution": {
     "iopub.execute_input": "2024-07-17T17:32:26.350827Z",
     "iopub.status.busy": "2024-07-17T17:32:26.350410Z",
     "iopub.status.idle": "2024-07-17T17:32:26.353826Z",
     "shell.execute_reply": "2024-07-17T17:32:26.353407Z",
     "shell.execute_reply.started": "2024-07-17T17:32:26.350805Z"
    }
   },
   "outputs": [],
   "source": [
    "# Debug\n",
    "\n",
    "model.set_prompt(\"\"\"You are provided with the text extracted from a webpage, delimited by < for start and > for end. Your task is to extract the key phrases from the text that best characterize the webpage. You should extract at most 10 such phrases, but may extract less. Ensure the key phrases are relevant and provide a good summary of the content. Present the key phrases in JSON format, with each key phrase being an item in a list. Do not output anything but json of extracted keyphrases.\n",
    "\n",
    "Example webpage to extract from: <&>\n",
    "\n",
    "Your response should look like this:&\n",
    "\n",
    "The text from the webpage: <&>\"\"\")"
   ]
  },
  {
   "cell_type": "code",
   "execution_count": 5,
   "id": "9cdb577c-f220-49f4-a115-c813c529a1b3",
   "metadata": {
    "execution": {
     "iopub.execute_input": "2024-07-18T15:41:18.199739Z",
     "iopub.status.busy": "2024-07-18T15:41:18.199481Z",
     "iopub.status.idle": "2024-07-18T15:41:19.869703Z",
     "shell.execute_reply": "2024-07-18T15:41:19.869060Z",
     "shell.execute_reply.started": "2024-07-18T15:41:18.199720Z"
    }
   },
   "outputs": [
    {
     "name": "stdout",
     "output_type": "stream",
     "text": [
      "Running on local URL:  http://127.0.0.1:7862\n",
      "Running on public URL: https://c5e37cd6bfc9efc8d4.gradio.live\n",
      "\n",
      "This share link expires in 72 hours. For free permanent hosting and GPU upgrades, run `gradio deploy` from Terminal to deploy to Spaces (https://huggingface.co/spaces)\n"
     ]
    },
    {
     "data": {
      "text/html": [
       "<div><iframe src=\"https://c5e37cd6bfc9efc8d4.gradio.live\" width=\"100%\" height=\"500\" allow=\"autoplay; camera; microphone; clipboard-read; clipboard-write;\" frameborder=\"0\" allowfullscreen></iframe></div>"
      ],
      "text/plain": [
       "<IPython.core.display.HTML object>"
      ]
     },
     "metadata": {},
     "output_type": "display_data"
    },
    {
     "data": {
      "text/plain": []
     },
     "execution_count": 5,
     "metadata": {},
     "output_type": "execute_result"
    }
   ],
   "source": [
    "def visualize(text: str) -> str:\n",
    "    \"\"\"\n",
    "    Gradio function to extract and visualize key phrases from the given text.\n",
    "    Args:\n",
    "        text (str): The input text to extract key phrases from.\n",
    "    Returns:\n",
    "        str: The extracted key phrases formatted for display.\n",
    "    \"\"\"\n",
    "    formatted_phrases = inference.get_multiple_phrases(text)\n",
    "    output_text = \"Key phrases in the text are:\\n- \" + \"\\n- \".join(formatted_phrases)\n",
    "    \n",
    "    return output_text\n",
    "\n",
    "\n",
    "# Create the Gradio interface for key phrase extraction\n",
    "interface = gr.Interface(\n",
    "    fn=visualize,\n",
    "    inputs=[\n",
    "        gr.Textbox(lines=2, placeholder=\"Enter your text prompt here...\", label=\"Text to extract the keywords from\"),\n",
    "    ],\n",
    "    outputs=\"text\",\n",
    "    title=\"Key Phrase Extractor\",\n",
    ")\n",
    "\n",
    "# Launch the interface\n",
    "interface.launch(share=True)"
   ]
  },
  {
   "cell_type": "code",
   "execution_count": null,
   "id": "e143d0e6-3639-40b0-8b02-4227ba8d77d1",
   "metadata": {},
   "outputs": [],
   "source": []
  }
 ],
 "metadata": {
  "kernelspec": {
   "display_name": "Python 3 (ipykernel)",
   "language": "python",
   "name": "python3"
  },
  "language_info": {
   "codemirror_mode": {
    "name": "ipython",
    "version": 3
   },
   "file_extension": ".py",
   "mimetype": "text/x-python",
   "name": "python",
   "nbconvert_exporter": "python",
   "pygments_lexer": "ipython3",
   "version": "3.11.7"
  }
 },
 "nbformat": 4,
 "nbformat_minor": 5
}
